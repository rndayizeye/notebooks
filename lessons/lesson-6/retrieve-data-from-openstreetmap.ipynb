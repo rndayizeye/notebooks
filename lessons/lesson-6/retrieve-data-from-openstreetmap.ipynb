{
 "cells": [
  {
   "cell_type": "markdown",
   "id": "e8bf80b0",
   "metadata": {},
   "source": [
    "# Retrieving data from OpenStreetMap\n",
    "\n",
    "## What is OpenStreetMap?\n",
    "\n",
    "![The logo of OpenStreetMap (OSM)](images/osm-logo_256x256px.svg)\n",
    "\n",
    "OpenStreetMap is a free and open map service, but - first and foremost - it is a collaborative global effort to collect free and open geodata. *Source: [wiki.openstreetmap.org](https://wiki.openstreetmap.org/wiki/Logos)*\n",
    "\n",
    "\n",
    "OpenStreetMap (OSM) is a global collaborative (crowd-sourced) database and\n",
    "project that aims at creating a free editable map of the world containing of\n",
    "information about our environment. It contains data about streets, buildings,\n",
    "different services, and landuse, to mention but a few.\n",
    "The collected data is also basis for the map at [openstreetmap.org](https://openstreetmap.org/). \n",
    "\n",
    "\n",
    "> **Note: Contribute!**  \n",
    "> You can also sign up as a contributor if you want to add to the database and map or correct and improve existing data. Read more in the [OpenStreetMap Wiki](https://wiki.openstreetmap.org/wiki/Main_Page).\n",
    "\n",
    "\n",
    "\n",
    "OSM has more than 8 million registered users who contribute around 4 million\n",
    "changes daily.  Its database contains data that is described by [more than 7\n",
    "billion nodes](http://wiki.openstreetmap.org/wiki/Stats) (that make up lines,\n",
    "polygons and other objects).\n",
    "\n",
    "While the most well-known side of OpenStreetMap is the map itself, that [we\n",
    "have used as a background map](../lesson-5/static-maps), the project is much\n",
    "more than that. OSM’s data can be used for many other purposes such as\n",
    "**routing**, **geocoding**, **education**, and **research**. OSM is also widely\n",
    "used for humanitarian response, e.g., in crisis areas (e.g. after natural\n",
    "disasters) and for fostering economic development. Read more about humanitarian\n",
    "projects that use OSM data from the [Humanitarian OpenStreetMap Team (HOTOSM)\n",
    "website](https://www.hotosm.org).\n",
    "\n",
    "\n",
    "\n",
    "## Main tools in this lesson\n",
    "\n",
    "### OSMnx\n",
    "\n",
    "This week we will explore a Python package called\n",
    "[OSMnx](https://github.com/gboeing/osmnx) that can be used to retrieve street\n",
    "networks from OpenStreetMap, and construct, analyse, and visualise them. OSMnx\n",
    "can also fetch data about Points of Interest, such as restaurants, schools, and\n",
    "different kinds of services.  The package also includes tools to find routes on\n",
    "a network downloaded from OpenStreetMap, and implements algorithms for finding\n",
    "shortest connections for walking, cycling, or driving.\n",
    "\n",
    "\n",
    "To get an overview of the capabilities of the package, watch the introductory\n",
    "video given by the lead developer of the package, Prof. Geoff Boeing: [\"Meet\n",
    "the developer: Introduction to OSMnx package by Geoff\n",
    "Boeing\"](https://www.youtube.com/watch?v=Q0uxu25ddc4&list=PLs9D4XVqc6dCAhhvhZB7aHGD8fCeCC_6N).\n",
    "\n",
    "There is also a scientific article available describing the package:\n",
    "\n",
    "> Boeing, G. 2017. [\"OSMnx: New Methods for Acquiring, Constructing, Analyzing,\n",
    "> and Visualizing Complex Street\n",
    "> Networks.\"](https://www.researchgate.net/publication/309738462_OSMnx_New_Methods_for_Acquiring_Constructing_Analyzing_and_Visualizing_Complex_Street_Networks)\n",
    "> Computers, Environment and Urban Systems 65, 126-139.\n",
    "> doi:10.1016/j.compenvurbsys.2017.05.004\n",
    "\n",
    "[This\n",
    "tutorial](https://github.com/gboeing/osmnx-examples/blob/master/notebooks/01-overview-osmnx.ipynb)\n",
    "provides a practical overview of OSMnx functionalities, and has also inspired\n",
    "this AutoGIS lesson.\n",
    "\n",
    "\n",
    "### NetworkX\n",
    "\n",
    "We will also use [NetworkX](https://networkx.github.io/documentation//)\n",
    "to manipulate and analyse the street network data retrieved from\n",
    "OpenStreetMap. NetworkX is a Python package that can be used to create,\n",
    "manipulate, and study the structure, dynamics, and functions of complex\n",
    "networks. \n",
    "\n",
    "\n",
    "---\n",
    "\n",
    "\n",
    "## Download and visualise OpenStreetMap data with OSMnx\n",
    "\n",
    "A useful feature of OSMnx is its easy-to-use tools to download\n",
    "[OpenStreetMap](http://www.openstreetmap.org) data via the project’s [OverPass\n",
    "API](http://wiki.openstreetmap.org/wiki/Overpass_API).\n",
    "In this section, we will learn how to download and visualise the street network\n",
    "and additional data from OpenStreetMap covering an area of interest.\n",
    "\n",
    "\n",
    "### Street network\n",
    "\n",
    "The [`osmnx.graph`\n",
    "module](https://osmnx.readthedocs.io/en/stable/osmnx.html#module-osmnx.graph)\n",
    "downloads data to construct a routable road network graph, based on an\n",
    "user-defined area of interest. This area of interest can be specified, for\n",
    "instance, using a place name, a bounding box, or a polygon.  Here, we will use\n",
    "a placename for fetching data covering the Kamppi area in Helsinki, Finland. \n",
    "\n",
    "In the place name query, OSMnx uses the Nominatim Geocoding API. This means\n",
    "that place names should exist in the OpenStreetMap database (run a test search\n",
    "at [openstreetmap.org](https://www.openstreetmap.org/) or\n",
    "[nominatim.openstreetmap.org](https://nomination.openstreetmap.org/)).\n",
    "\n",
    "We will read an OSM street network using OSMnx’s\n",
    "[graph_from_place()](https://osmnx.readthedocs.io/en/stable/osmnx.html#osmnx.graph.graph_from_place) function:"
   ]
  },
  {
   "cell_type": "code",
   "execution_count": 1,
   "id": "677903bc",
   "metadata": {},
   "outputs": [],
   "source": [
    "import osmnx\n",
    "\n"
   ]
  },
  {
   "cell_type": "markdown",
   "id": "27f21ba8",
   "metadata": {},
   "source": [
    "Check the data type of the graph:"
   ]
  },
  {
   "cell_type": "code",
   "execution_count": null,
   "id": "1b2ff980",
   "metadata": {},
   "outputs": [],
   "source": []
  },
  {
   "cell_type": "markdown",
   "id": "2a9d0e9c",
   "metadata": {},
   "source": [
    "What we have here is a\n",
    "[`networkx.MultiDiGraph`](https://networkx.org/documentation/stable/reference/classes/multidigraph.html) object.\n",
    "\n",
    "\n",
    "OSMnx’s graphs do not have a built-in method to plot them, but the package\n",
    "comes with a function to do so:"
   ]
  },
  {
   "cell_type": "code",
   "execution_count": null,
   "id": "30b987f4",
   "metadata": {},
   "outputs": [],
   "source": []
  },
  {
   "cell_type": "markdown",
   "id": "4fd3bb3d",
   "metadata": {},
   "source": [
    "Just as its GeoPandas and Pandas equivalents, `osmnx.plot_graph()` uses\n",
    "matplotlib. The function returns a `(figure, axes)` tuple, that can be used to\n",
    "modify the figure using all matplotlib functions we already got to know.\n",
    "\n",
    "We can see that our graph contains nodes (the points) and edges (the\n",
    "lines) that connects those nodes to each other.\n",
    "\n",
    "\n",
    "\n",
    "### Convert a graph to `GeoDataFrame`s\n",
    "\n",
    "The street network we just downloaded is a *graph*, more specifically a\n",
    "`networkx.MultiDiGraph`. Its main purpose is to represent the topological\n",
    "relationships between nodes and the links (edges) between them. Sometimes, it\n",
    "is more convenient to have the underlying geodata in `geopandas.GeoDataFrame`s.\n",
    "OSMnx comes with a convenient function that converts a graph into two geo-data\n",
    "frames, one for nodes, and one for edges:\n",
    "[`osmnx.graph_to_gdfs()`](https://osmnx.readthedocs.io/en/stable/osmnx.html#osmnx.utils_graph.graph_to_gdfs)."
   ]
  },
  {
   "cell_type": "code",
   "execution_count": null,
   "id": "c7b662ad",
   "metadata": {},
   "outputs": [],
   "source": []
  },
  {
   "cell_type": "code",
   "execution_count": null,
   "id": "44637547",
   "metadata": {},
   "outputs": [],
   "source": []
  },
  {
   "cell_type": "code",
   "execution_count": null,
   "id": "d4ab9371",
   "metadata": {},
   "outputs": [],
   "source": []
  },
  {
   "cell_type": "markdown",
   "id": "7087a72a",
   "metadata": {},
   "source": [
    "Nice! Now, as we can see, we have our graph as GeoDataFrames and we can plot\n",
    "them using the same functions and tools as we have used before.\n",
    "\n",
    "\n",
    "\n",
    "### Place polygon\n",
    "\n",
    "Let’s also plot the polygon that represents our area of interest (Kamppi,\n",
    "Helsinki). We can retrieve the polygon geometry using the\n",
    "[osmnx.geocode_to_gdf()](https://osmnx.readthedocs.io/en/stable/osmnx.html?highlight=geocode_to_gdf(#osmnx.geocoder.geocode_to_gdf)\n",
    "function."
   ]
  },
  {
   "cell_type": "code",
   "execution_count": null,
   "id": "af8d7873",
   "metadata": {},
   "outputs": [],
   "source": []
  },
  {
   "cell_type": "markdown",
   "id": "d80985bc",
   "metadata": {},
   "source": [
    "As the name of the function already tells us, it returns a GeoDataFrame object\n",
    "based on the specified place name query.  Let’s still verify the data type:"
   ]
  },
  {
   "cell_type": "code",
   "execution_count": null,
   "id": "6ace84e5",
   "metadata": {},
   "outputs": [],
   "source": [
    "type(area)"
   ]
  },
  {
   "cell_type": "markdown",
   "id": "6847b9e0",
   "metadata": {},
   "source": [
    "Let’s also have a look at the data:"
   ]
  },
  {
   "cell_type": "code",
   "execution_count": null,
   "id": "339635e5",
   "metadata": {},
   "outputs": [],
   "source": []
  },
  {
   "cell_type": "code",
   "execution_count": null,
   "id": "32a23f2b",
   "metadata": {},
   "outputs": [],
   "source": []
  },
  {
   "cell_type": "markdown",
   "id": "d3dd8163",
   "metadata": {},
   "source": [
    "### Building footprints\n",
    "\n",
    "Besides network data, OSMnx can also download any other data contained in the OpenStreetMap database. This includes, for instance, building footprints, and different points-of-interests (POIs). To download arbitrary geometries, filtered by [OSM tags](https://wiki.openstreetmap.org/wiki/Map_features) and a place name, use [`osmnx.features_from_place()`](https://osmnx.readthedocs.io/en/stable/osmnx.html#osmnx.features_from_place) [geometries is now deprecated]. The tag to retrieve all [buildings](https://wiki.openstreetmap.org/wiki/Buildings) is `building = True`."
   ]
  },
  {
   "cell_type": "code",
   "execution_count": null,
   "id": "e9ea22c2",
   "metadata": {},
   "outputs": [],
   "source": []
  },
  {
   "cell_type": "code",
   "execution_count": null,
   "id": "a36efca4",
   "metadata": {},
   "outputs": [],
   "source": [
    "len(buildings)"
   ]
  },
  {
   "cell_type": "code",
   "execution_count": null,
   "id": "a9c39d95",
   "metadata": {},
   "outputs": [],
   "source": [
    "buildings.head()"
   ]
  },
  {
   "cell_type": "markdown",
   "id": "22c60591",
   "metadata": {},
   "source": [
    "As you can see, there are several columns in `buildings`. Each column contains\n",
    "information about a specific tag that OpenStreetMap contributors have added.\n",
    "Each tag consists of a key (the column name), and a values (for example\n",
    "`building=yes` or `building=school`). Read more about tags and tagging\n",
    "practices in the [OpenStreetMap\n",
    "wiki](https://wiki.openstreetmap.org/wiki/Tags)."
   ]
  },
  {
   "cell_type": "code",
   "execution_count": null,
   "id": "b5fd22bb",
   "metadata": {},
   "outputs": [],
   "source": []
  },
  {
   "cell_type": "markdown",
   "id": "6328de64",
   "metadata": {},
   "source": [
    "### Points-of-interest\n",
    "\n",
    "Point-of-interest (POI) is a generic concept that describes point locations\n",
    "that represent places of interest. As `osmnx.features_from_place()` can download any geometry data contained in the OpenStreetMap database, it can also be used to download any kind of POI data. \n",
    "\n",
    "\n",
    "In OpenStreetMap, many POIs are described using the [`amenity`\n",
    "tag](https://wiki.openstreetmap.org/wiki/Key:amenity).  We can, for example,\n",
    "retrieve all restaurant locations by querying `amenity=restaurant`."
   ]
  },
  {
   "cell_type": "code",
   "execution_count": null,
   "id": "4d7622d8",
   "metadata": {},
   "outputs": [],
   "source": [
    "restaurants = osmnx.features_from_place(\n",
    "    PLACE_NAME,\n",
    "    {\n",
    "        \"amenity\": \"restaurant\"\n",
    "    }\n",
    ")\n",
    "len(restaurants)"
   ]
  },
  {
   "cell_type": "markdown",
   "id": "1ad4d96b",
   "metadata": {},
   "source": [
    "As we can see, there are quite many restaurants in the area.\n",
    "\n",
    "Let’s explore what kind of attributes we have in our restaurants GeoDataFrame:"
   ]
  },
  {
   "cell_type": "code",
   "execution_count": null,
   "id": "e8c07b00",
   "metadata": {},
   "outputs": [],
   "source": [
    "restaurants.columns.values"
   ]
  },
  {
   "cell_type": "markdown",
   "id": "b7fa7f8f",
   "metadata": {},
   "source": [
    "As you can see, there is quite a lot of (potential) information related to the\n",
    "amenities. Let’s subset the columns and inspect the data further. Can we\n",
    "extract all restaurants’ names, address, and opening hours?"
   ]
  },
  {
   "cell_type": "code",
   "execution_count": null,
   "id": "e4dcc1c1",
   "metadata": {},
   "outputs": [],
   "source": [
    "# Select some useful cols and print\n",
    "interesting_columns = [\n",
    "    \"name\",\n",
    "    \"opening_hours\",\n",
    "    \"addr:city\",\n",
    "    \"addr:country\",\n",
    "    \"addr:housenumber\",\n",
    "    \"addr:postcode\",\n",
    "    \"addr:street\"\n",
    "]\n",
    "\n",
    "# Print only selected cols\n",
    "restaurants[interesting_columns].head(10)"
   ]
  },
  {
   "cell_type": "markdown",
   "id": "8f63f28b",
   "metadata": {},
   "source": [
    ":::{tip}\n",
    "if some of the information needs an update, head over to [openstreetmap.org](https://openstreetmap.org) and edit the source data!\n",
    ":::\n",
    "\n",
    "\n",
    "\n",
    "### Parks and green areas\n",
    "\n",
    "Let’s try to fetch all public parks in the Kamppi area. In OpenStreetMap,\n",
    "[parks hould be tagged](https://wiki.openstreetmap.org/wiki/Map_features) as\n",
    "`leisure = park`.  Smaller green areas (*puistikot*) are sometimes also tagged\n",
    "`landuse = grass`. We can combine multiple tags in one data query."
   ]
  },
  {
   "cell_type": "code",
   "execution_count": null,
   "id": "6e07b751",
   "metadata": {},
   "outputs": [],
   "source": [
    "parks = osmnx.features_from_place(\n",
    "    PLACE_NAME,\n",
    "    {\n",
    "        \"leisure\": \"park\",\n",
    "        \"landuse\": \"grass\",\n",
    "    },\n",
    ")"
   ]
  },
  {
   "cell_type": "code",
   "execution_count": null,
   "id": "8e4b4774",
   "metadata": {},
   "outputs": [],
   "source": []
  },
  {
   "cell_type": "code",
   "execution_count": null,
   "id": "6f68a13e",
   "metadata": {},
   "outputs": [],
   "source": []
  },
  {
   "cell_type": "markdown",
   "id": "1dcd57a5",
   "metadata": {},
   "source": [
    "### Plotting the data\n",
    "\n",
    "Let’s create a map out of the streets, buildings, restaurants, and the area polygon."
   ]
  },
  {
   "cell_type": "code",
   "execution_count": null,
   "id": "762172e9",
   "metadata": {},
   "outputs": [],
   "source": [
    "import matplotlib\n",
    "figure, ax = matplotlib.pyplot.subplots(figsize=(12,8))\n",
    "\n",
    "# Plot the footprint\n",
    "area.plot(ax=ax, facecolor=\"black\")\n",
    "\n",
    "# Plot parks\n",
    "parks.plot(ax=ax, facecolor=\"green\")\n",
    "\n",
    "# Plot street ‘edges’\n",
    "edges.plot(ax=ax, linewidth=1, edgecolor=\"dimgray\")\n",
    "\n",
    "# Plot buildings\n",
    "buildings.plot(ax=ax, facecolor=\"silver\", alpha=0.7)\n",
    "\n",
    "# Plot restaurants\n",
    "restaurants.plot(ax=ax, color=\"yellow\", alpha=0.7, markersize=10)"
   ]
  },
  {
   "cell_type": "markdown",
   "id": "8ce769e7",
   "metadata": {},
   "source": [
    "Cool! Now we have a map where we have plotted the restaurants, buildings,\n",
    "streets and the boundaries of the selected region of ‘Kamppi’ in Helsinki. And\n",
    "all of this required only a few lines of code. Pretty neat! \n",
    "\n",
    "\n",
    "\n",
    "> **Hint: Check your understanding**  \n",
    "> Retrieve OpenStreetMap data from some other area! Download these elements using OSMnx functions from your area of interest:\n",
    "> \n",
    "> - Extent of the area using `geocode_to_gdf()`\n",
    "> - Street network using `graph_from_place()`, and convert to geo-data frame using `graph_to_gdfs()`\n",
    "> - Building footprints (and other geometries) using `features_from_place()` and appropriate tags.\n",
    "> \n",
    "> *Note: The larger the area you choose, the longer it takes to retrieve data from the API!*\n"
   ]
  },
  {
   "cell_type": "code",
   "execution_count": 8,
   "id": "1478e9c9-464e-4922-b6f0-2cf66b0415ac",
   "metadata": {},
   "outputs": [
    {
     "data": {
      "image/png": "[encoded data removed]",
      "text/plain": [
       "<Figure size 1000x800 with 1 Axes>"
      ]
     },
     "metadata": {},
     "output_type": "display_data"
    }
   ],
   "source": [
    "# Specify the name that is used to seach for the data. Check that the place\n",
    "# name is valid from https://nominatim.openstreetmap.org/ui/search.html\n",
    "MY_PLACE = \"herndon\"\n",
    "\n",
    "# Get street network\n",
    "\n",
    "area = osmnx.geocode_to_gdf(MY_PLACE)\n",
    "\n",
    "# Get building footprints\n",
    "\n",
    "buildings = osmnx.features_from_place(\n",
    "    MY_PLACE,\n",
    "    {\n",
    "        \"building\": True\n",
    "    }\n",
    ")\n",
    "parks = osmnx.features_from_place(\n",
    "    MY_PLACE,\n",
    "    {\n",
    "        \"leisure\": \"park\",\n",
    "        \"landuse\": \"grass\"\n",
    "    },\n",
    ")\n",
    "# Plot the data\n",
    "import matplotlib.pyplot as plt\n",
    "\n",
    "fig, ax = plt.subplots(figsize = (10,8))\n",
    "area.plot(ax = ax, facecolor = 'black')\n",
    "parks.plot(ax = ax, facecolor  ='green')\n",
    "buildings.plot(ax = ax, facecolor = 'silver', alpha = 0.7)\n",
    "plt.show()\n",
    "\n"
   ]
  },
  {
   "cell_type": "markdown",
   "id": "1fc5b36b-3f52-4cf1-bc5e-46b2bdb7599e",
   "metadata": {},
   "source": [
    "## Advanced reading\n",
    "\n",
    "To analyse OpenStreetMap data over large areas, it is often more efficient and\n",
    "meaningful to download the data all at once, instead of separate queries to the\n",
    "API. Such data dumps from OpenStreetMap are available in various file formats,\n",
    "OSM [Protocolbuffer Binary\n",
    "Format](https://wiki.openstreetmap.org/wiki/PBF_Format) (PBF) being one of\n",
    "them. Data extracts covering whole countries and continents are available, for\n",
    "instance, at [download.geofabrik.de](https://download.geofabrik.de/).\n",
    "\n",
    "[Pyrosm](https://pyrosm.readthedocs.io/) is a Python package for reading\n",
    "OpenStreetMap data from PBF files into `geopandas.GeoDataFrames`. Pyrosm makes\n",
    "it easy to extract road networks, buildings, Points of Interest (POI), landuse,\n",
    "natural elements, administrative boundaries and much more - similar to OSMnx,\n",
    "but taylored to analyses of large areas.  While OSMnx reads the data from the\n",
    "Overpass API, pyrosm reads the data from a local PBF file.\n",
    "\n",
    "Read more about fetching and using pbf files as a source for analysing\n",
    "OpenStreetMap data in Python from the [pyrosm\n",
    "documentation](https://pyrosm.readthedocs.io/en/latest/basics.html#protobuf-file-what-is-it-and-how-to-get-one)."
   ]
  }
 ],
 "metadata": {
  "kernelspec": {
   "display_name": "Python 3 (ipykernel)",
   "language": "python",
   "name": "python3"
  },
  "language_info": {
   "codemirror_mode": {
    "name": "ipython",
    "version": 3
   },
   "file_extension": ".py",
   "mimetype": "text/x-python",
   "name": "python",
   "nbconvert_exporter": "python",
   "pygments_lexer": "ipython3",
   "version": "3.13.3"
  }
 },
 "nbformat": 4,
 "nbformat_minor": 5
}
